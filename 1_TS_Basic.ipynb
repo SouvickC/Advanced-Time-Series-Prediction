{
 "cells": [
  {
   "cell_type": "code",
   "execution_count": null,
   "id": "7b4a5b93",
   "metadata": {},
   "outputs": [],
   "source": [
    "## check whether the time series data is stationary or not\n",
    "\n"
   ]
  },
  {
   "cell_type": "code",
   "execution_count": null,
   "id": "d0ca372b",
   "metadata": {},
   "outputs": [],
   "source": []
  },
  {
   "cell_type": "code",
   "execution_count": null,
   "id": "73168051",
   "metadata": {},
   "outputs": [],
   "source": []
  },
  {
   "cell_type": "code",
   "execution_count": null,
   "metadata": {},
   "outputs": [],
   "source": []
  }
 ],
 "metadata": {
  "language_info": {
   "name": "python"
  }
 },
 "nbformat": 4,
 "nbformat_minor": 5
}
